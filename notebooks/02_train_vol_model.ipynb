{
 "cells": [
  {
   "cell_type": "markdown",
   "id": "cd928414",
   "metadata": {},
   "source": [
    "# Training a model for volatility prediction"
   ]
  },
  {
   "cell_type": "markdown",
   "id": "6898ba01",
   "metadata": {},
   "source": [
    "### XGBoost regressor for 5 minutes - future realized volatility"
   ]
  },
  {
   "cell_type": "code",
   "execution_count": 1,
   "id": "8bedd699",
   "metadata": {},
   "outputs": [],
   "source": [
    "%run ../risk_estimator/config.py\n",
    "\n",
    "config = get_config()"
   ]
  },
  {
   "cell_type": "code",
   "execution_count": 2,
   "id": "1a54978a",
   "metadata": {},
   "outputs": [
    {
     "name": "stdout",
     "output_type": "stream",
     "text": [
      "Loading training data (at ~25 MB/s) ...\n",
      "Loading validation data...\n",
      "Loading test data...\n"
     ]
    }
   ],
   "source": [
    "import xgboost as xgb\n",
    "from sklearn.metrics import mean_squared_error\n",
    "\n",
    "%run ../risk_estimator/data_loader.py\n",
    "\n",
    "target = config['vol_target_col_name']\n",
    "dir = config['split_dir']\n",
    "\n",
    "print(\"Loading training data (at ~25 MB/s) ...\")\n",
    "X_train, y_train = get_data(dir, 'train', target)  # Load the training data\n",
    "\n",
    "print(\"Loading validation data...\")\n",
    "X_val, y_val = get_data(dir, 'val', target)  # Load the validation data\n",
    "\n",
    "print(\"Loading test data...\")\n",
    "X_test, y_test = get_data(dir, 'test', target)  # Load the test data"
   ]
  },
  {
   "cell_type": "code",
   "execution_count": 3,
   "id": "85b85b4e",
   "metadata": {},
   "outputs": [],
   "source": [
    "# # Create and train the regressor with eval metric = 'rmse'\n",
    "# model = xgb.XGBRegressor(eval_metric='rmse', verbosity=2)\n",
    "# model.fit(\n",
    "#     X_train, y_train,\n",
    "#     eval_set=[(X_val, y_val)],\n",
    "#     verbose=True\n",
    "# )\n",
    "# model.save_model('xgb_model_rv5min.json')"
   ]
  },
  {
   "cell_type": "code",
   "execution_count": 4,
   "id": "e9530ca1",
   "metadata": {},
   "outputs": [
    {
     "name": "stdout",
     "output_type": "stream",
     "text": [
      "[13:30:03] INFO: /Users/runner/miniforge3/conda-bld/xgboost-split_1758007651359/work/src/data/iterative_dmatrix.cc:53: Finished constructing the `IterativeDMatrix`: (12631680, 35, 438371981).\n",
      "[13:30:09] INFO: /Users/runner/miniforge3/conda-bld/xgboost-split_1758007651359/work/src/data/iterative_dmatrix.cc:53: Finished constructing the `IterativeDMatrix`: (6307200, 35, 218911852).\n",
      "[0]\tvalidation_0-mae:0.00005\n",
      "[1]\tvalidation_0-mae:0.00004\n",
      "[2]\tvalidation_0-mae:0.00004\n",
      "[3]\tvalidation_0-mae:0.00003\n",
      "[4]\tvalidation_0-mae:0.00003\n",
      "[5]\tvalidation_0-mae:0.00003\n",
      "[6]\tvalidation_0-mae:0.00003\n",
      "[7]\tvalidation_0-mae:0.00003\n",
      "[8]\tvalidation_0-mae:0.00003\n",
      "[9]\tvalidation_0-mae:0.00003\n",
      "[10]\tvalidation_0-mae:0.00003\n",
      "[11]\tvalidation_0-mae:0.00003\n",
      "[12]\tvalidation_0-mae:0.00003\n",
      "[13]\tvalidation_0-mae:0.00003\n",
      "[14]\tvalidation_0-mae:0.00003\n",
      "[15]\tvalidation_0-mae:0.00003\n",
      "[16]\tvalidation_0-mae:0.00002\n",
      "[17]\tvalidation_0-mae:0.00002\n",
      "[18]\tvalidation_0-mae:0.00002\n",
      "[19]\tvalidation_0-mae:0.00002\n",
      "[20]\tvalidation_0-mae:0.00002\n",
      "[21]\tvalidation_0-mae:0.00002\n",
      "[22]\tvalidation_0-mae:0.00002\n",
      "[23]\tvalidation_0-mae:0.00002\n",
      "[24]\tvalidation_0-mae:0.00003\n",
      "[25]\tvalidation_0-mae:0.00003\n",
      "[26]\tvalidation_0-mae:0.00003\n",
      "[27]\tvalidation_0-mae:0.00003\n",
      "[28]\tvalidation_0-mae:0.00003\n",
      "[29]\tvalidation_0-mae:0.00003\n",
      "[30]\tvalidation_0-mae:0.00003\n",
      "[31]\tvalidation_0-mae:0.00003\n",
      "[32]\tvalidation_0-mae:0.00003\n",
      "[33]\tvalidation_0-mae:0.00003\n",
      "[34]\tvalidation_0-mae:0.00003\n",
      "[35]\tvalidation_0-mae:0.00003\n",
      "[36]\tvalidation_0-mae:0.00003\n",
      "[37]\tvalidation_0-mae:0.00003\n",
      "[38]\tvalidation_0-mae:0.00003\n",
      "[39]\tvalidation_0-mae:0.00003\n",
      "[40]\tvalidation_0-mae:0.00003\n",
      "[41]\tvalidation_0-mae:0.00003\n",
      "[42]\tvalidation_0-mae:0.00003\n",
      "[43]\tvalidation_0-mae:0.00003\n",
      "[44]\tvalidation_0-mae:0.00003\n",
      "[45]\tvalidation_0-mae:0.00003\n",
      "[46]\tvalidation_0-mae:0.00003\n",
      "[47]\tvalidation_0-mae:0.00003\n",
      "[48]\tvalidation_0-mae:0.00003\n",
      "[49]\tvalidation_0-mae:0.00003\n",
      "[50]\tvalidation_0-mae:0.00003\n",
      "[51]\tvalidation_0-mae:0.00003\n",
      "[52]\tvalidation_0-mae:0.00003\n",
      "[53]\tvalidation_0-mae:0.00003\n",
      "[54]\tvalidation_0-mae:0.00003\n",
      "[55]\tvalidation_0-mae:0.00003\n",
      "[56]\tvalidation_0-mae:0.00003\n",
      "[57]\tvalidation_0-mae:0.00003\n",
      "[58]\tvalidation_0-mae:0.00003\n",
      "[59]\tvalidation_0-mae:0.00003\n",
      "[60]\tvalidation_0-mae:0.00003\n",
      "[61]\tvalidation_0-mae:0.00003\n",
      "[62]\tvalidation_0-mae:0.00003\n",
      "[63]\tvalidation_0-mae:0.00003\n",
      "[64]\tvalidation_0-mae:0.00003\n",
      "[65]\tvalidation_0-mae:0.00003\n",
      "[66]\tvalidation_0-mae:0.00003\n",
      "[67]\tvalidation_0-mae:0.00003\n",
      "[68]\tvalidation_0-mae:0.00003\n",
      "[69]\tvalidation_0-mae:0.00003\n",
      "[70]\tvalidation_0-mae:0.00003\n",
      "[71]\tvalidation_0-mae:0.00003\n",
      "[72]\tvalidation_0-mae:0.00003\n",
      "[73]\tvalidation_0-mae:0.00003\n",
      "[74]\tvalidation_0-mae:0.00003\n",
      "[75]\tvalidation_0-mae:0.00003\n",
      "[76]\tvalidation_0-mae:0.00003\n",
      "[77]\tvalidation_0-mae:0.00003\n",
      "[78]\tvalidation_0-mae:0.00003\n",
      "[79]\tvalidation_0-mae:0.00003\n",
      "[80]\tvalidation_0-mae:0.00003\n",
      "[81]\tvalidation_0-mae:0.00003\n",
      "[82]\tvalidation_0-mae:0.00003\n",
      "[83]\tvalidation_0-mae:0.00003\n",
      "[84]\tvalidation_0-mae:0.00003\n",
      "[85]\tvalidation_0-mae:0.00003\n",
      "[86]\tvalidation_0-mae:0.00003\n",
      "[87]\tvalidation_0-mae:0.00003\n",
      "[88]\tvalidation_0-mae:0.00003\n",
      "[89]\tvalidation_0-mae:0.00003\n",
      "[90]\tvalidation_0-mae:0.00003\n",
      "[91]\tvalidation_0-mae:0.00003\n",
      "[92]\tvalidation_0-mae:0.00003\n",
      "[93]\tvalidation_0-mae:0.00003\n",
      "[94]\tvalidation_0-mae:0.00003\n",
      "[95]\tvalidation_0-mae:0.00003\n",
      "[96]\tvalidation_0-mae:0.00003\n",
      "[97]\tvalidation_0-mae:0.00003\n",
      "[98]\tvalidation_0-mae:0.00003\n",
      "[99]\tvalidation_0-mae:0.00003\n"
     ]
    }
   ],
   "source": [
    "# Create and train the regressor with eval metric = 'mae'\n",
    "model = xgb.XGBRegressor(eval_metric='mae', verbosity=2)\n",
    "model.fit(\n",
    "    X_train, y_train,\n",
    "    eval_set=[(X_val, y_val)],\n",
    "    verbose=True\n",
    ")\n",
    "model.save_model(config['vol_model_path'])"
   ]
  },
  {
   "cell_type": "code",
   "execution_count": 5,
   "id": "335dbd21",
   "metadata": {},
   "outputs": [
    {
     "name": "stdout",
     "output_type": "stream",
     "text": [
      "Test MSE: 1.8116671125596841e-07\n",
      "Square root of Test MSE: 0.0004256368302390765\n",
      "y_test statistics:\n",
      " count    6.289861e+06\n",
      "mean     1.963777e-04\n",
      "std      4.589194e-04\n",
      "min      0.000000e+00\n",
      "25%      0.000000e+00\n",
      "50%      1.359826e-04\n",
      "75%      2.797386e-04\n",
      "max      1.198150e-01\n",
      "Name: m_realized_vol_5min_future, dtype: float64\n"
     ]
    }
   ],
   "source": [
    "# Predict and evaluate\n",
    "y_pred = model.predict(X_test)\n",
    "mse = mean_squared_error(y_test, y_pred)\n",
    "print(\"Test MSE:\", mse)\n",
    "print(\"Square root of Test MSE:\", mse**0.5)\n",
    "print(\"y_test statistics:\\n\", y_test.describe())"
   ]
  }
 ],
 "metadata": {
  "kernelspec": {
   "display_name": "Python (base)",
   "language": "python",
   "name": "base"
  },
  "language_info": {
   "codemirror_mode": {
    "name": "ipython",
    "version": 3
   },
   "file_extension": ".py",
   "mimetype": "text/x-python",
   "name": "python",
   "nbconvert_exporter": "python",
   "pygments_lexer": "ipython3",
   "version": "3.13.5"
  }
 },
 "nbformat": 4,
 "nbformat_minor": 5
}

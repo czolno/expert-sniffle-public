{
 "cells": [
  {
   "cell_type": "markdown",
   "id": "cd928414",
   "metadata": {},
   "source": [
    "# Training a model for volatility prediction"
   ]
  },
  {
   "cell_type": "markdown",
   "id": "6898ba01",
   "metadata": {},
   "source": [
    "### XGBoost regressor for 5 minutes - future realized volatility"
   ]
  },
  {
   "cell_type": "code",
   "execution_count": null,
   "id": "8bedd699",
   "metadata": {},
   "outputs": [],
   "source": [
    "%run ../risk_estimator/config.py\n",
    "\n",
    "config = get_config()"
   ]
  },
  {
   "cell_type": "code",
   "execution_count": null,
   "id": "1a54978a",
   "metadata": {},
   "outputs": [],
   "source": [
    "import xgboost as xgb\n",
    "from sklearn.metrics import mean_squared_error\n",
    "\n",
    "%run ../risk_estimator/data_loader.py\n",
    "\n",
    "target = 'm_realized_vol_5min_future'\n",
    "dir = config['split_dir']\n",
    "\n",
    "print(\"Loading training data...\")\n",
    "X_train, y_train = get_data(dir, 'train', target)  # Load the training data\n",
    "\n",
    "print(\"Loading validation data...\")\n",
    "X_val, y_val = get_data(dir, 'val', target)  # Load the validation data\n",
    "\n",
    "print(\"Loading test data...\")\n",
    "X_test, y_test = get_data(dir, 'test', target)  # Load the test data"
   ]
  },
  {
   "cell_type": "code",
   "execution_count": null,
   "id": "85b85b4e",
   "metadata": {},
   "outputs": [],
   "source": [
    "# # Create and train the regressor with eval metric = 'rmse'\n",
    "# model = xgb.XGBRegressor(eval_metric='rmse', verbosity=2)\n",
    "# model.fit(\n",
    "#     X_train, y_train,\n",
    "#     eval_set=[(X_val, y_val)],\n",
    "#     verbose=True\n",
    "# )\n",
    "# model.save_model('xgb_model_rv5min.json')"
   ]
  },
  {
   "cell_type": "code",
   "execution_count": null,
   "id": "e9530ca1",
   "metadata": {},
   "outputs": [],
   "source": [
    "# Create and train the regressor with eval metric = 'mae'\n",
    "model = xgb.XGBRegressor(eval_metric='mae', verbosity=2, n_estimators=10)\n",
    "model.fit(\n",
    "    X_train, y_train,\n",
    "    eval_set=[(X_val, y_val)],\n",
    "    verbose=True\n",
    ")\n",
    "model.save_model('xgb_model_rv5min_MAE.json')"
   ]
  },
  {
   "cell_type": "code",
   "execution_count": null,
   "id": "335dbd21",
   "metadata": {},
   "outputs": [],
   "source": [
    "# Predict and evaluate\n",
    "y_pred = model.predict(X_test)\n",
    "mse = mean_squared_error(y_test, y_pred)\n",
    "print(\"Test MSE:\", mse)"
   ]
  }
 ],
 "metadata": {
  "kernelspec": {
   "display_name": "Python (base)",
   "language": "python",
   "name": "base"
  },
  "language_info": {
   "name": "python",
   "version": "3.13.5"
  }
 },
 "nbformat": 4,
 "nbformat_minor": 5
}
